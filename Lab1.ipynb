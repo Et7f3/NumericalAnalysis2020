{
  "nbformat": 4,
  "nbformat_minor": 0,
  "metadata": {
    "colab": {
      "name": "Untitled2.ipynb",
      "provenance": [],
      "authorship_tag": "ABX9TyNGDTvTsugHQE4lwMsgVtpt",
      "include_colab_link": true
    },
    "kernelspec": {
      "name": "python3",
      "display_name": "Python 3"
    }
  },
  "cells": [
    {
      "cell_type": "markdown",
      "metadata": {
        "id": "view-in-github",
        "colab_type": "text"
      },
      "source": [
        "<a href=\"https://colab.research.google.com/github/Et7f3/NumericalAnalysis2020/blob/master/Lab1.ipynb\" target=\"_parent\"><img src=\"https://colab.research.google.com/assets/colab-badge.svg\" alt=\"Open In Colab\"/></a>"
      ]
    },
    {
      "cell_type": "markdown",
      "metadata": {
        "id": "FwgdJkImdNUd",
        "colab_type": "text"
      },
      "source": [
        "# Lab1"
      ]
    },
    {
      "cell_type": "markdown",
      "metadata": {
        "id": "hMOJWTR7daGb",
        "colab_type": "text"
      },
      "source": [
        "## Ex 2"
      ]
    },
    {
      "cell_type": "code",
      "metadata": {
        "id": "e9X4zWfzdE97",
        "colab_type": "code",
        "colab": {
          "base_uri": "https://localhost:8080/",
          "height": 101
        },
        "outputId": "d20d7bdc-4247-4a26-e7f5-5a48b8e5ef11"
      },
      "source": [
        "a = [1, 1, 2, 3, 5, 8, 13, 21, 34, 55, 89]\n",
        "\n",
        "for e in a:\n",
        "\tif e <= 5:\n",
        "\t\tprint(e)"
      ],
      "execution_count": 1,
      "outputs": [
        {
          "output_type": "stream",
          "text": [
            "1\n",
            "1\n",
            "2\n",
            "3\n",
            "5\n"
          ],
          "name": "stdout"
        }
      ]
    },
    {
      "cell_type": "markdown",
      "metadata": {
        "id": "Kr2k8BGAdV5e",
        "colab_type": "text"
      },
      "source": [
        "## Ex 2"
      ]
    },
    {
      "cell_type": "code",
      "metadata": {
        "id": "EMYgH4hudMD2",
        "colab_type": "code",
        "colab": {
          "base_uri": "https://localhost:8080/",
          "height": 202
        },
        "outputId": "c40ff856-cf9f-42d2-b33b-0c48c807f4c6"
      },
      "source": [
        "n = int(input(\"Please enter a limit: \"))\n",
        "n1, n2 = 1, 1\n",
        "for _ in range(n):\n",
        "  print(n1)\n",
        "  n1, n2 = n2, n1+n2"
      ],
      "execution_count": 2,
      "outputs": [
        {
          "output_type": "stream",
          "text": [
            "Please enter a limit: 10\n",
            "1\n",
            "1\n",
            "2\n",
            "3\n",
            "5\n",
            "8\n",
            "13\n",
            "21\n",
            "34\n",
            "55\n"
          ],
          "name": "stdout"
        }
      ]
    },
    {
      "cell_type": "markdown",
      "metadata": {
        "id": "GE0oScHbecX4",
        "colab_type": "text"
      },
      "source": [
        "## Ex 3"
      ]
    },
    {
      "cell_type": "code",
      "metadata": {
        "id": "0BQDjC9NeeMZ",
        "colab_type": "code",
        "colab": {}
      },
      "source": [
        "def ex3(l):\n",
        "  ret = [] if len(l) == 0 else [l[0]]\n",
        "  for e in l:\n",
        "    if not e in ret:\n",
        "      ret.append(e)\n",
        "  return ret"
      ],
      "execution_count": 0,
      "outputs": []
    },
    {
      "cell_type": "code",
      "metadata": {
        "id": "ghlYgmrHgnVs",
        "colab_type": "code",
        "colab": {
          "base_uri": "https://localhost:8080/",
          "height": 34
        },
        "outputId": "80710d50-b0b5-47ba-e978-ac1132edfd00"
      },
      "source": [
        "print(ex3([1, 1, 2, 2, 3, 4, 3, 2, 1]))"
      ],
      "execution_count": 4,
      "outputs": [
        {
          "output_type": "stream",
          "text": [
            "[1, 2, 3, 4]\n"
          ],
          "name": "stdout"
        }
      ]
    }
  ]
}