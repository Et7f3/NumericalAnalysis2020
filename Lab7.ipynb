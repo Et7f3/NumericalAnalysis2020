{
  "nbformat": 4,
  "nbformat_minor": 0,
  "metadata": {
    "colab": {
      "name": "Untitled8.ipynb",
      "provenance": [],
      "authorship_tag": "ABX9TyPONVHpyv2xkXwjAyuXLWfE",
      "include_colab_link": true
    },
    "kernelspec": {
      "name": "python3",
      "display_name": "Python 3"
    }
  },
  "cells": [
    {
      "cell_type": "markdown",
      "metadata": {
        "id": "view-in-github",
        "colab_type": "text"
      },
      "source": [
        "<a href=\"https://colab.research.google.com/github/Et7f3/NumericalAnalysis2020/blob/master/Lab7.ipynb\" target=\"_parent\"><img src=\"https://colab.research.google.com/assets/colab-badge.svg\" alt=\"Open In Colab\"/></a>"
      ]
    },
    {
      "cell_type": "markdown",
      "metadata": {
        "id": "u9wp3DjFOAfk",
        "colab_type": "text"
      },
      "source": [
        "# Lab7"
      ]
    },
    {
      "cell_type": "markdown",
      "metadata": {
        "id": "biZr1yIIOFgl",
        "colab_type": "text"
      },
      "source": [
        "## Ex 1"
      ]
    },
    {
      "cell_type": "markdown",
      "metadata": {
        "id": "XPh2D4QC-lNg",
        "colab_type": "text"
      },
      "source": [
        "Lagrange :\n",
        "\n",
        "p(x) = ((x - 6) * (x - 5) * (x - 1)) / ((4 - 6) * (4 - 5) * (4 - 1)) * 2 + ((x - 4) * (x - 5) * (x - 1)) / ((6 - 4) * (6 - 5) * (6 - 1)) * 8 + ((x - 6) * (x - 4) * (x - 1)) / ((5 - 6) * (5 - 4) * (5 - 1)) * 4 + ((x - 6) * (x - 5) * (x - 4)) / ((1 - 6) * (1 - 5) * (1 - 4)) * 10)\n",
        "\n",
        "see below in code it is correct.\n",
        "\n",
        "Newton :\n",
        "\n",
        "a_0 = 2\n",
        "\n",
        "p_0(x) = a_0\n",
        "\n",
        "a_1 = (8 - a_0) / (6 - 4)\n",
        "\n",
        "p_1(x) = a_0 + a_1 * (x - 4)\n",
        "\n",
        "a_2 = (4 - p_1(5)) / ((5 - 4) * (5 - 6))\n",
        "\n",
        "p_2(x) = a_0 + a_1 * (x - 4) + a_2 * (x - 4) * (x - 6)\n",
        "\n",
        "a_3 = (10 - p_2(1)) / ((1 - 4) * (1 - 6) * (1 - 5))\n",
        "\n",
        "p_3(x) = a_0 + a_1 * (x - 4) + a_2 * (x - 4) * (x - 6) + a_3 * (x - 4) * (x - 6) * (x - 5)\n",
        "\n",
        "I didn't expand it for visibility and its work. See below also :)"
      ]
    },
    {
      "cell_type": "code",
      "metadata": {
        "id": "uQi5aeOgN_ER",
        "colab_type": "code",
        "colab": {
          "base_uri": "https://localhost:8080/",
          "height": 34
        },
        "outputId": "197a9159-774c-42d0-e03c-7b372d37c271"
      },
      "source": [
        "from numpy.polynomial import Polynomial as P\n",
        "\n",
        "def l(xs, xk):\n",
        "  up = P(1)\n",
        "  for e in xs:\n",
        "    if e != xk: # This also ignore double nodes but that shouldn't happend.\n",
        "      up *= P([-e, 1])\n",
        "  down = 1\n",
        "  for e in xs:\n",
        "    if e != xk:\n",
        "      down *= xk - e\n",
        "  return up, down\n",
        "\n",
        "def lagrange(points):\n",
        "  ret = []\n",
        "  xs = [e for (e, _) in points]\n",
        "\n",
        "  for (x, f) in points:\n",
        "    ret.append((l(xs, x), f))\n",
        "\n",
        "  def p(x):\n",
        "    v = 0\n",
        "    for ((up, down), f) in ret:\n",
        "      v += up(x) / down * f\n",
        "    return v\n",
        "\n",
        "  return p\n",
        "\n",
        "points = [(4, 2), (6, 8), (5, 4), (1, 10)]\n",
        "response = lagrange(points)\n",
        "\n",
        "# Lagrange\n",
        "def p(x):\n",
        "  return ((x - 6) * (x - 5) * (x - 1)) / ((4 - 6) * (4 - 5) * (4 - 1)) * 2 + ((x - 4) * (x - 5) * (x - 1)) / ((6 - 4) * (6 - 5) * (6 - 1)) * 8 + ((x - 6) * (x - 4) * (x - 1)) / ((5 - 6) * (5 - 4) * (5 - 1)) * 4 + ((x - 6) * (x - 5) * (x - 4)) / ((1 - 6) * (1 - 5) * (1 - 4)) * 10\n",
        "\n",
        "# Newton\n",
        "a_0 = 2\n",
        "def p_0(x):\n",
        "  return a_0\n",
        "a_1 = (8 - a_0) / (6 - 4)\n",
        "def p_1(x):\n",
        "  return a_0 + a_1 * (x - 4)\n",
        "a_2 = (4 - p_1(5)) / ((5 - 4) * (5 - 6))\n",
        "def p_2(x):\n",
        "  return a_0 + a_1 * (x - 4) + a_2 * (x - 4) * (x - 6)\n",
        "a_3 = (10 - p_2(1)) / ((1 - 4) * (1 - 6) * (1 - 5))\n",
        "def p_3(x):\n",
        "  return a_0 + a_1 * (x - 4) + a_2 * (x - 4) * (x - 6) + a_3 * (x - 4) * (x - 6) * (x - 5)\n",
        "\n",
        "for x, f in points:\n",
        "  assert p(x) == f\n",
        "  assert p_3(x) == f\n",
        "  assert response(x) == f\n",
        "\n",
        "print(\"Assert succeded ☺\")"
      ],
      "execution_count": 35,
      "outputs": [
        {
          "output_type": "stream",
          "text": [
            "Assert succeded ☺\n"
          ],
          "name": "stdout"
        }
      ]
    },
    {
      "cell_type": "markdown",
      "metadata": {
        "id": "fMdccqQ5F5Fu",
        "colab_type": "text"
      },
      "source": [
        "## Ex 2"
      ]
    },
    {
      "cell_type": "code",
      "metadata": {
        "id": "9l7_a5cIF6ue",
        "colab_type": "code",
        "colab": {}
      },
      "source": [
        "def polyplot(xm, ym, xplot, yplot):\n",
        "  # Import pyplot as plt\n",
        "  import matplotlib.pyplot as plt\n",
        "\n",
        "  #plot the function\n",
        "\n",
        "  plt.plot(xplot, yplot, lw=2, label='interpolation')\n",
        "\n",
        "  plt.plot(xm, ym, 'o', label='points')\n",
        "\n",
        "  plt.legend()\n",
        "  plt.show()\n",
        "\n",
        "def poly_newton_coefficient(x, y):\n",
        "    \"\"\"\n",
        "    x: list or np array contanining x data points\n",
        "    y: list or np array contanining y data points\n",
        "    \"\"\"\n",
        "\n",
        "    m = len(x)\n",
        "\n",
        "    x = np.copy(x)\n",
        "    a = np.copy(y).astype(float)\n",
        "\n",
        "    for k in range(1, m):\n",
        "        for i in range(m-1, k-1, -1):\n",
        "            a[i] = float(a[i]-a[i-1])/float(x[i]-x[i-k])\n",
        "            \n",
        "    return a\n",
        "\n",
        "def newton_interpolation(x, x_data, y_data):\n",
        "    \"\"\"\n",
        "    x: evaluation point(s)\n",
        "    x_data: data points at x\n",
        "    y_data: data points at y\n",
        "     \"\"\"\n",
        "    a = poly_newton_coefficient(x_data, y_data)\n",
        "    n = len(x_data) - 1  # Degree of polynomial\n",
        "    p = a[n]\n",
        "    print(\"array a = \",a)\n",
        "\n",
        "    for k in range(1, n + 1):\n",
        "        p = a[n - k] + (x - x_data[n - k])*p\n",
        "\n",
        "    return p\n",
        "\n",
        "\n",
        "\n",
        "# Lagrange Polynomials in Python\n",
        "import numpy as np\n",
        "\n",
        "def  lagrange(x,i,xm):\n",
        "  \"\"\"\n",
        "  Evaluates  the i-th  Lagrange  polynomial  at point x \n",
        "  based on grid  data xm\n",
        "  \"\"\"\n",
        "  n=len(xm)-1\n",
        "  y=1.\n",
        "  for j in  range(n+1):\n",
        "    if i!=j:\n",
        "      y*=(x-xm[j])/(xm[i]-xm[j])\n",
        "  return y\n",
        "\n",
        "\n",
        "def  interpolation(x,xm ,ym):\n",
        "  n=len(xm)-1\n",
        "  lagrpoly=np.array([lagrange(x,i,xm) for i in range(n+1)])\n",
        "  y = np.dot(ym ,lagrpoly)\n",
        "  return y"
      ],
      "execution_count": 51,
      "outputs": []
    },
    {
      "cell_type": "code",
      "metadata": {
        "id": "fPq-4lxWGe7_",
        "colab_type": "code",
        "colab": {
          "base_uri": "https://localhost:8080/",
          "height": 514
        },
        "outputId": "f265b36b-5cae-420c-be85-850254891429"
      },
      "source": [
        "import numpy as np\n",
        "import math\n",
        "import matplotlib.pyplot as plt\n",
        "\n",
        "x = [x for x in range(0, 11, 2)]\n",
        "xm = np.array(x)\n",
        "ym = np.array([math.sin(x) for x in x])\n",
        "xplot = np.linspace(0,10,100)\n",
        "yplot = interpolation(xplot, xm, ym)\n",
        "polyplot(xm, ym, xplot, yplot)\n",
        "polyplot(xm, [0 for _ in ym], xplot, [abs(yplot[i] - math.sin(xplot[i])) for i in range(len(yplot))])"
      ],
      "execution_count": 61,
      "outputs": [
        {
          "output_type": "display_data",
          "data": {
            "image/png": "[encoded data removed]",
            "text/plain": [
              "<Figure size 432x288 with 1 Axes>"
            ]
          },
          "metadata": {
            "tags": [],
            "needs_background": "light"
          }
        },
        {
          "output_type": "display_data",
          "data": {
            "image/png": "[encoded data removed]",
            "text/plain": [
              "<Figure size 432x288 with 1 Axes>"
            ]
          },
          "metadata": {
            "tags": [],
            "needs_background": "light"
          }
        }
      ]
    },
    {
      "cell_type": "markdown",
      "metadata": {
        "id": "DQd-Y9NLK6hN",
        "colab_type": "text"
      },
      "source": [
        "The error is bigger near the first/last nodes and lower nead the middle nodes"
      ]
    }
  ]
}