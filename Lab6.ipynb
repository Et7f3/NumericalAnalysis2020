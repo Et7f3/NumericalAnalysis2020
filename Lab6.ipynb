{
  "nbformat": 4,
  "nbformat_minor": 0,
  "metadata": {
    "colab": {
      "name": "Untitled7.ipynb",
      "provenance": [],
      "collapsed_sections": [
        "keCb8mI3RrRZ"
      ],
      "authorship_tag": "ABX9TyOQ1CCaK2YS/CV0n08clKbf",
      "include_colab_link": true
    },
    "kernelspec": {
      "name": "python3",
      "display_name": "Python 3"
    }
  },
  "cells": [
    {
      "cell_type": "markdown",
      "metadata": {
        "id": "view-in-github",
        "colab_type": "text"
      },
      "source": [
        "<a href=\"https://colab.research.google.com/github/Et7f3/NumericalAnalysis2020/blob/master/Lab6.ipynb\" target=\"_parent\"><img src=\"https://colab.research.google.com/assets/colab-badge.svg\" alt=\"Open In Colab\"/></a>"
      ]
    },
    {
      "cell_type": "markdown",
      "metadata": {
        "id": "BYSTwuxsReaH",
        "colab_type": "text"
      },
      "source": [
        "# Lab6"
      ]
    },
    {
      "cell_type": "markdown",
      "metadata": {
        "id": "YqSW2RBYRwUy",
        "colab_type": "text"
      },
      "source": [
        "## Ex 2"
      ]
    },
    {
      "cell_type": "markdown",
      "metadata": {
        "id": "Qkc3pSh8nKzL",
        "colab_type": "text"
      },
      "source": [
        "### 1)"
      ]
    },
    {
      "cell_type": "markdown",
      "metadata": {
        "id": "CML7kXseR1aJ",
        "colab_type": "text"
      },
      "source": [
        "1) 4x1  -1x2 +1x3 =  8\n",
        "\n",
        "2) 2x1  +5x2 +2x3 =  3\n",
        "\n",
        "3) 1x1  +2x2 +4x3 =  11\n",
        "\n",
        "l1 <- (4 * l3 - l1) / 3\n",
        "\n",
        "l2 <- l2 - 2 * l3\n",
        "\n",
        "---\n",
        "\n",
        "1)       3x2 + 5x3 = 12\n",
        "\n",
        "2)       1x2 - 6x3 = -19\n",
        "\n",
        "3) 1x1 + 2x2 + 4x3 = 11\n",
        "\n",
        "l1 <- (l1 - 3 * l2) / 23\n",
        "\n",
        "---\n",
        "\n",
        "1)              x3 = 3\n",
        "\n",
        "2)       1x2 - 6x3 = -19\n",
        "\n",
        "3) 1x1 + 2x2 + 4x3 = 11\n",
        "\n",
        "=> x2 = -1\n",
        "\n",
        "=> x1 = 1"
      ]
    },
    {
      "cell_type": "markdown",
      "metadata": {
        "id": "c4f3kFmmnN8J",
        "colab_type": "text"
      },
      "source": [
        "### 2)"
      ]
    },
    {
      "cell_type": "markdown",
      "metadata": {
        "id": "6jY8463arxaw",
        "colab_type": "text"
      },
      "source": [
        "1) 4x1 - 1x2 + 2x3 = 9 (isn't 11 ?)\n",
        "\n",
        "2) 2x1 + 4x2 - 1x3 = -5\n",
        "\n",
        "3) 1x1 + 1x2 - 3x3 = -9\n",
        "\n",
        "l1 <- 4 * l3 - l1\n",
        "\n",
        "l2 <- l2 - 2 * l3\n",
        "\n",
        "---\n",
        "\n",
        "1)      5x2 - 14x3 = -45\n",
        "\n",
        "2)      2x2 +  5x3 = 13\n",
        "\n",
        "3) x1 +  x2 -  3x3 = -9\n",
        "\n",
        "l1 <- 5 * l2 - 2 * l1\n",
        "\n",
        "---\n",
        "\n",
        "1)            53x3 = 155\n",
        "\n",
        "2)      2x2 +  5x3 = 13\n",
        "\n",
        "3) x1 +  x2 -  3x3 = -9\n",
        "\n",
        "=> x3 = 155 / 53 ~= 2.92\n",
        "\n",
        "=> x2 = 13 - 5 * 155 / 53 = (689 - 775) / 53 = -86 / 53 ~= -1.62\n",
        "\n",
        "=> x1 = -9 + 3 * 155 / 53 + 86 / 53 = -9 + 551 / 53 = (551 - 477) / 53 = 74 / 53 ~= 1.39"
      ]
    },
    {
      "cell_type": "markdown",
      "metadata": {
        "id": "TrfEhjFQumRC",
        "colab_type": "text"
      },
      "source": [
        "## Ex 3"
      ]
    },
    {
      "cell_type": "code",
      "metadata": {
        "id": "rsOQm71GnPu2",
        "colab_type": "code",
        "colab": {}
      },
      "source": [
        "# Gaussian elimination\n",
        "\n",
        "import scipy \n",
        "import scipy.linalg\n",
        "import numpy as np\n",
        "import copy\n",
        "\n",
        "def linearsolver(A, b):\n",
        "  n = len(A)\n",
        "  M = A\n",
        "\n",
        "  i = 0\n",
        "  for x in M:\n",
        "   x.append(b[i])\n",
        "   i += 1\n",
        "\n",
        "\n",
        "  for k in range(n):\n",
        "   # first pivoting\n",
        "   for i in range(k,n):\n",
        "     if abs(M[i][k]) > abs(M[k][k]):\n",
        "        M[k], M[i] = M[i],M[k]\n",
        "     else:\n",
        "        pass\n",
        "   \n",
        "   # Gaussian elimination in loop \n",
        "   for j in range(k+1,n):\n",
        "       q = float(M[j][k]) / M[k][k]\n",
        "       for m in range(k, n+1):\n",
        "          # M_jm = M_jm - M_jk / M_kk *M_km\n",
        "          M[j][m] -=  q * M[k][m]\n",
        "  x = [0 for i in range(n)]       # x = [0, 0, .... , 0]\n",
        "\n",
        "  # calculating x\n",
        "  x[n-1] =float(M[n-1][n])/M[n-1][n-1]\n",
        "  for i in range (n-1,-1,-1):\n",
        "    z = 0\n",
        "    for j in range(i+1,n):\n",
        "        z = z  + float(M[i][j])*x[j]\n",
        "    x[i] = float(M[i][n] - z)/M[i][i]\n",
        "  return x"
      ],
      "execution_count": 1,
      "outputs": []
    },
    {
      "cell_type": "code",
      "metadata": {
        "id": "OYc3cHR2v1NY",
        "colab_type": "code",
        "colab": {
          "base_uri": "https://localhost:8080/",
          "height": 0
        },
        "outputId": "6d12326a-a26d-4945-b0d2-9f6279885357"
      },
      "source": [
        "A, a = [[4, -1,  2],\n",
        "     [2,  4, -1],\n",
        "     [1,  1, -3]], [9, -5, -9]\n",
        "\n",
        "B, b = [[1,  2, 4],\n",
        "     [2,  5, 2],\n",
        "     [4, -1, 1]], [11, 3, 8]\n",
        "\n",
        "print(linearsolver(copy.deepcopy(A), copy.deepcopy(a)))\n",
        "print(linearsolver(copy.deepcopy(A), copy.deepcopy(b)))\n",
        "print(\"Numpy :\")\n",
        "print(scipy.linalg.solve(A, a))\n",
        "print(scipy.linalg.solve(B, b))"
      ],
      "execution_count": 2,
      "outputs": [
        {
          "output_type": "stream",
          "text": [
            "[0.5849056603773586, -0.8113207547169813, 2.924528301886792]\n",
            "[3.3962264150943398, -1.4528301886792452, -2.0188679245283017]\n",
            "Numpy :\n",
            "[ 0.58490566 -0.81132075  2.9245283 ]\n",
            "[ 1. -1.  3.]\n"
          ],
          "name": "stdout"
        }
      ]
    },
    {
      "cell_type": "markdown",
      "metadata": {
        "id": "IZ7F-ZMNJn31",
        "colab_type": "text"
      },
      "source": [
        "To obtain the same result we have to transform L_n <- Σcoef_i*L_i instead of dividing to have one coef. I.E: avoid L1 <- L1 - 4/3 * L2 but do L1 <- 3 * L1 - 4 * L2 This way we can manipulate integer more longer and avoid floating point error"
      ]
    },
    {
      "cell_type": "markdown",
      "metadata": {
        "id": "qxTNGue-Htvm",
        "colab_type": "text"
      },
      "source": [
        "## Ex 4"
      ]
    },
    {
      "cell_type": "code",
      "metadata": {
        "id": "a_Hj98zcHxYH",
        "colab_type": "code",
        "colab": {
          "base_uri": "https://localhost:8080/",
          "height": 0
        },
        "outputId": "c8a068d9-e5d1-4bc6-e97f-87f2d3fec588"
      },
      "source": [
        "import scipy\n",
        "import scipy.linalg\n",
        "#LU decomposition using linalg.lu library function\n",
        "G, g = [[1,  2,  1],\n",
        "        [1, -2,  2],\n",
        "        [2, 12, -2]], [0, 4, 4]\n",
        "P2, L2, U2 = scipy.linalg.lu(G)\n",
        "g = P2.dot(g)\n",
        "y = scipy.linalg.solve(L2, g)\n",
        "res = scipy.linalg.solve(U2, y)\n",
        "res"
      ],
      "execution_count": 3,
      "outputs": [
        {
          "output_type": "execute_result",
          "data": {
            "text/plain": [
              "array([11. , -2.5, -6. ])"
            ]
          },
          "metadata": {
            "tags": []
          },
          "execution_count": 3
        }
      ]
    }
  ]
}